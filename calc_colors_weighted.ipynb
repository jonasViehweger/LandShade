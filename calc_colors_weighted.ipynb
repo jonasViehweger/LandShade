{
 "cells": [
  {
   "cell_type": "code",
   "execution_count": 6,
   "metadata": {},
   "outputs": [],
   "source": [
    "import polars as pl"
   ]
  },
  {
   "cell_type": "code",
   "execution_count": 7,
   "metadata": {},
   "outputs": [],
   "source": [
    "igbp_data = pl.read_csv(\"data/IGBPPerYearAndCountry.csv\").select(\n",
    "    pl.col(\"system:index\").str.slice(0,10).str.strptime(format=\"%Y_%m_%d\", dtype=pl.Datetime(\"ms\")).alias(\"date\"),\n",
    "    pl.col.histogram.str.json_decode(),\n",
    "    pl.col.shapeGroup,\n",
    "    pl.col.shapeType\n",
    ")\n",
    "country_sizes = pl.read_csv(\"data/Roughness.csv\")"
   ]
  },
  {
   "cell_type": "code",
   "execution_count": 9,
   "metadata": {},
   "outputs": [],
   "source": [
    "class_mapping = {\n",
    "    \"Forests\": [1,2,3,4,5],\n",
    "    \"Shrubs\": [6,7],\n",
    "    \"Savannas\": [8,9],\n",
    "    \"Grasslands\": [10],\n",
    "    \"Wetlands\": [11],\n",
    "    \"Agricultural Areas\": [12],\n",
    "    \"Urban Areas\": [13],\n",
    "    \"Water Areas\": [17],\n",
    "}\n",
    "\n",
    "# Create a reversed mapping from class numbers to names\n",
    "reversed_mapping = {num: category for category, nums in class_mapping.items() for num in nums}\n",
    "\n",
    "classes = igbp_data.explode(\"histogram\").with_columns(\n",
    "    pl.col.histogram.list.to_struct(fields=[\"class\", \"count\"]).struct.unnest()\n",
    ").with_columns(\n",
    "    pl.col(\"class\").replace_strict(reversed_mapping, default=\"none\", return_dtype=pl.String).alias(\"class_name\")\n",
    ").filter(\n",
    "    pl.col.class_name != \"none\",\n",
    "    pl.col.count != 0\n",
    ").group_by(\"shapeGroup\", \"class_name\", \"date\").agg(pl.col.count.sum())"
   ]
  },
  {
   "cell_type": "code",
   "execution_count": 10,
   "metadata": {},
   "outputs": [
    {
     "data": {
      "text/html": [
       "<div><style>\n",
       ".dataframe > thead > tr,\n",
       ".dataframe > tbody > tr {\n",
       "  text-align: right;\n",
       "  white-space: pre-wrap;\n",
       "}\n",
       "</style>\n",
       "<small>shape: (34_756, 4)</small><table border=\"1\" class=\"dataframe\"><thead><tr><th>shapeGroup</th><th>class_name</th><th>date</th><th>count</th></tr><tr><td>str</td><td>str</td><td>datetime[ms]</td><td>f64</td></tr></thead><tbody><tr><td>&quot;YEM&quot;</td><td>&quot;Wetlands&quot;</td><td>2019-01-01 00:00:00</td><td>12.109804</td></tr><tr><td>&quot;GMB&quot;</td><td>&quot;Grasslands&quot;</td><td>2016-01-01 00:00:00</td><td>21293.466667</td></tr><tr><td>&quot;MYS&quot;</td><td>&quot;Forests&quot;</td><td>2018-01-01 00:00:00</td><td>897912.917647</td></tr><tr><td>&quot;KIR&quot;</td><td>&quot;Agricultural Areas&quot;</td><td>2018-01-01 00:00:00</td><td>1.0</td></tr><tr><td>&quot;MDV&quot;</td><td>&quot;Wetlands&quot;</td><td>2001-01-01 00:00:00</td><td>105.870588</td></tr><tr><td>&hellip;</td><td>&hellip;</td><td>&hellip;</td><td>&hellip;</td></tr><tr><td>&quot;KAZ&quot;</td><td>&quot;Wetlands&quot;</td><td>2020-01-01 00:00:00</td><td>84194.662745</td></tr><tr><td>&quot;MEX&quot;</td><td>&quot;Water Areas&quot;</td><td>2008-01-01 00:00:00</td><td>65456.639216</td></tr><tr><td>&quot;VEN&quot;</td><td>&quot;Savannas&quot;</td><td>2004-01-01 00:00:00</td><td>1.0586e6</td></tr><tr><td>&quot;124&quot;</td><td>&quot;Shrubs&quot;</td><td>2003-01-01 00:00:00</td><td>1.141176</td></tr><tr><td>&quot;EGY&quot;</td><td>&quot;Forests&quot;</td><td>2011-01-01 00:00:00</td><td>1.0</td></tr></tbody></table></div>"
      ],
      "text/plain": [
       "shape: (34_756, 4)\n",
       "┌────────────┬────────────────────┬─────────────────────┬───────────────┐\n",
       "│ shapeGroup ┆ class_name         ┆ date                ┆ count         │\n",
       "│ ---        ┆ ---                ┆ ---                 ┆ ---           │\n",
       "│ str        ┆ str                ┆ datetime[ms]        ┆ f64           │\n",
       "╞════════════╪════════════════════╪═════════════════════╪═══════════════╡\n",
       "│ YEM        ┆ Wetlands           ┆ 2019-01-01 00:00:00 ┆ 12.109804     │\n",
       "│ GMB        ┆ Grasslands         ┆ 2016-01-01 00:00:00 ┆ 21293.466667  │\n",
       "│ MYS        ┆ Forests            ┆ 2018-01-01 00:00:00 ┆ 897912.917647 │\n",
       "│ KIR        ┆ Agricultural Areas ┆ 2018-01-01 00:00:00 ┆ 1.0           │\n",
       "│ MDV        ┆ Wetlands           ┆ 2001-01-01 00:00:00 ┆ 105.870588    │\n",
       "│ …          ┆ …                  ┆ …                   ┆ …             │\n",
       "│ KAZ        ┆ Wetlands           ┆ 2020-01-01 00:00:00 ┆ 84194.662745  │\n",
       "│ MEX        ┆ Water Areas        ┆ 2008-01-01 00:00:00 ┆ 65456.639216  │\n",
       "│ VEN        ┆ Savannas           ┆ 2004-01-01 00:00:00 ┆ 1.0586e6      │\n",
       "│ 124        ┆ Shrubs             ┆ 2003-01-01 00:00:00 ┆ 1.141176      │\n",
       "│ EGY        ┆ Forests            ┆ 2011-01-01 00:00:00 ┆ 1.0           │\n",
       "└────────────┴────────────────────┴─────────────────────┴───────────────┘"
      ]
     },
     "execution_count": 10,
     "metadata": {},
     "output_type": "execute_result"
    }
   ],
   "source": [
    "classes"
   ]
  },
  {
   "cell_type": "code",
   "execution_count": 11,
   "metadata": {},
   "outputs": [],
   "source": [
    "country_weights = (\n",
    "    classes\n",
    "    .join(country_sizes.select(\"shapeGroup\", \"area\"), on=\"shapeGroup\")\n",
    "    .with_columns(\n",
    "        country_weight = pl.col.count / pl.col.count.sum().over([\"shapeGroup\", \"date\"]),\n",
    "    )\n",
    "    .with_columns(\n",
    "        country_land_cover_area=pl.col.area*pl.col.country_weight,\n",
    "    )\n",
    "    .with_columns(\n",
    "        global_weight = pl.col.country_land_cover_area / pl.col.country_land_cover_area.sum().over([\"class_name\", \"date\"]),\n",
    "        year = pl.col.date.dt.year()\n",
    "    )\n",
    ")"
   ]
  },
  {
   "cell_type": "code",
   "execution_count": 16,
   "metadata": {},
   "outputs": [
    {
     "data": {
      "text/plain": [
       "1.0000000000000009"
      ]
     },
     "execution_count": 16,
     "metadata": {},
     "output_type": "execute_result"
    }
   ],
   "source": [
    "country_weights.filter(class_name=\"Wetlands\", year=2001)[\"global_weight\"].sum()"
   ]
  },
  {
   "cell_type": "code",
   "execution_count": 13,
   "metadata": {},
   "outputs": [
    {
     "data": {
      "text/html": [
       "<div><style>\n",
       ".dataframe > thead > tr,\n",
       ".dataframe > tbody > tr {\n",
       "  text-align: right;\n",
       "  white-space: pre-wrap;\n",
       "}\n",
       "</style>\n",
       "<small>shape: (34_756, 9)</small><table border=\"1\" class=\"dataframe\"><thead><tr><th>shapeGroup</th><th>class_name</th><th>date</th><th>count</th><th>area</th><th>country_weight</th><th>country_land_cover_area</th><th>global_weight</th><th>year</th></tr><tr><td>str</td><td>str</td><td>datetime[ms]</td><td>f64</td><td>f64</td><td>f64</td><td>f64</td><td>f64</td><td>i32</td></tr></thead><tbody><tr><td>&quot;YEM&quot;</td><td>&quot;Wetlands&quot;</td><td>2019-01-01 00:00:00</td><td>12.109804</td><td>453322.221762</td><td>0.000039</td><td>17.707385</td><td>0.000011</td><td>2019</td></tr><tr><td>&quot;GMB&quot;</td><td>&quot;Grasslands&quot;</td><td>2016-01-01 00:00:00</td><td>21293.466667</td><td>10717.453419</td><td>0.468979</td><td>5026.265637</td><td>0.000117</td><td>2016</td></tr><tr><td>&quot;MYS&quot;</td><td>&quot;Forests&quot;</td><td>2018-01-01 00:00:00</td><td>897912.917647</td><td>329134.877105</td><td>0.679208</td><td>223550.939547</td><td>0.01029</td><td>2018</td></tr><tr><td>&quot;KIR&quot;</td><td>&quot;Agricultural Areas&quot;</td><td>2018-01-01 00:00:00</td><td>1.0</td><td>924.598674</td><td>0.000284</td><td>0.262429</td><td>1.7999e-8</td><td>2018</td></tr><tr><td>&quot;MDV&quot;</td><td>&quot;Wetlands&quot;</td><td>2001-01-01 00:00:00</td><td>105.870588</td><td>161.403794</td><td>0.168714</td><td>27.231141</td><td>0.000008</td><td>2001</td></tr><tr><td>&hellip;</td><td>&hellip;</td><td>&hellip;</td><td>&hellip;</td><td>&hellip;</td><td>&hellip;</td><td>&hellip;</td><td>&hellip;</td><td>&hellip;</td></tr><tr><td>&quot;KAZ&quot;</td><td>&quot;Wetlands&quot;</td><td>2020-01-01 00:00:00</td><td>84194.662745</td><td>2.7253e6</td><td>0.003589</td><td>9780.571175</td><td>0.006296</td><td>2020</td></tr><tr><td>&quot;MEX&quot;</td><td>&quot;Water Areas&quot;</td><td>2008-01-01 00:00:00</td><td>65456.639216</td><td>1.9564e6</td><td>0.007186</td><td>14058.292021</td><td>0.003808</td><td>2008</td></tr><tr><td>&quot;VEN&quot;</td><td>&quot;Savannas&quot;</td><td>2004-01-01 00:00:00</td><td>1.0586e6</td><td>911914.529103</td><td>0.284003</td><td>258986.218188</td><td>0.009384</td><td>2004</td></tr><tr><td>&quot;124&quot;</td><td>&quot;Shrubs&quot;</td><td>2003-01-01 00:00:00</td><td>1.141176</td><td>52.476817</td><td>0.003912</td><td>0.205282</td><td>9.8464e-9</td><td>2003</td></tr><tr><td>&quot;EGY&quot;</td><td>&quot;Forests&quot;</td><td>2011-01-01 00:00:00</td><td>1.0</td><td>983835.168242</td><td>0.000004</td><td>3.755429</td><td>1.7129e-7</td><td>2011</td></tr></tbody></table></div>"
      ],
      "text/plain": [
       "shape: (34_756, 9)\n",
       "┌────────────┬────────────┬────────────┬────────────┬───┬───────────┬───────────┬───────────┬──────┐\n",
       "│ shapeGroup ┆ class_name ┆ date       ┆ count      ┆ … ┆ country_w ┆ country_l ┆ global_we ┆ year │\n",
       "│ ---        ┆ ---        ┆ ---        ┆ ---        ┆   ┆ eight     ┆ and_cover ┆ ight      ┆ ---  │\n",
       "│ str        ┆ str        ┆ datetime[m ┆ f64        ┆   ┆ ---       ┆ _area     ┆ ---       ┆ i32  │\n",
       "│            ┆            ┆ s]         ┆            ┆   ┆ f64       ┆ ---       ┆ f64       ┆      │\n",
       "│            ┆            ┆            ┆            ┆   ┆           ┆ f64       ┆           ┆      │\n",
       "╞════════════╪════════════╪════════════╪════════════╪═══╪═══════════╪═══════════╪═══════════╪══════╡\n",
       "│ YEM        ┆ Wetlands   ┆ 2019-01-01 ┆ 12.109804  ┆ … ┆ 0.000039  ┆ 17.707385 ┆ 0.000011  ┆ 2019 │\n",
       "│            ┆            ┆ 00:00:00   ┆            ┆   ┆           ┆           ┆           ┆      │\n",
       "│ GMB        ┆ Grasslands ┆ 2016-01-01 ┆ 21293.4666 ┆ … ┆ 0.468979  ┆ 5026.2656 ┆ 0.000117  ┆ 2016 │\n",
       "│            ┆            ┆ 00:00:00   ┆ 67         ┆   ┆           ┆ 37        ┆           ┆      │\n",
       "│ MYS        ┆ Forests    ┆ 2018-01-01 ┆ 897912.917 ┆ … ┆ 0.679208  ┆ 223550.93 ┆ 0.01029   ┆ 2018 │\n",
       "│            ┆            ┆ 00:00:00   ┆ 647        ┆   ┆           ┆ 9547      ┆           ┆      │\n",
       "│ KIR        ┆ Agricultur ┆ 2018-01-01 ┆ 1.0        ┆ … ┆ 0.000284  ┆ 0.262429  ┆ 1.7999e-8 ┆ 2018 │\n",
       "│            ┆ al Areas   ┆ 00:00:00   ┆            ┆   ┆           ┆           ┆           ┆      │\n",
       "│ MDV        ┆ Wetlands   ┆ 2001-01-01 ┆ 105.870588 ┆ … ┆ 0.168714  ┆ 27.231141 ┆ 0.000008  ┆ 2001 │\n",
       "│            ┆            ┆ 00:00:00   ┆            ┆   ┆           ┆           ┆           ┆      │\n",
       "│ …          ┆ …          ┆ …          ┆ …          ┆ … ┆ …         ┆ …         ┆ …         ┆ …    │\n",
       "│ KAZ        ┆ Wetlands   ┆ 2020-01-01 ┆ 84194.6627 ┆ … ┆ 0.003589  ┆ 9780.5711 ┆ 0.006296  ┆ 2020 │\n",
       "│            ┆            ┆ 00:00:00   ┆ 45         ┆   ┆           ┆ 75        ┆           ┆      │\n",
       "│ MEX        ┆ Water      ┆ 2008-01-01 ┆ 65456.6392 ┆ … ┆ 0.007186  ┆ 14058.292 ┆ 0.003808  ┆ 2008 │\n",
       "│            ┆ Areas      ┆ 00:00:00   ┆ 16         ┆   ┆           ┆ 021       ┆           ┆      │\n",
       "│ VEN        ┆ Savannas   ┆ 2004-01-01 ┆ 1.0586e6   ┆ … ┆ 0.284003  ┆ 258986.21 ┆ 0.009384  ┆ 2004 │\n",
       "│            ┆            ┆ 00:00:00   ┆            ┆   ┆           ┆ 8188      ┆           ┆      │\n",
       "│ 124        ┆ Shrubs     ┆ 2003-01-01 ┆ 1.141176   ┆ … ┆ 0.003912  ┆ 0.205282  ┆ 9.8464e-9 ┆ 2003 │\n",
       "│            ┆            ┆ 00:00:00   ┆            ┆   ┆           ┆           ┆           ┆      │\n",
       "│ EGY        ┆ Forests    ┆ 2011-01-01 ┆ 1.0        ┆ … ┆ 0.000004  ┆ 3.755429  ┆ 1.7129e-7 ┆ 2011 │\n",
       "│            ┆            ┆ 00:00:00   ┆            ┆   ┆           ┆           ┆           ┆      │\n",
       "└────────────┴────────────┴────────────┴────────────┴───┴───────────┴───────────┴───────────┴──────┘"
      ]
     },
     "execution_count": 13,
     "metadata": {},
     "output_type": "execute_result"
    }
   ],
   "source": [
    "country_weights"
   ]
  },
  {
   "cell_type": "code",
   "execution_count": 14,
   "metadata": {},
   "outputs": [],
   "source": [
    "country_weights.rename({\"class_name\": \"landCover\"}).write_parquet(\"data/weights.pq\")"
   ]
  }
 ],
 "metadata": {
  "kernelspec": {
   "display_name": ".venv",
   "language": "python",
   "name": "python3"
  },
  "language_info": {
   "codemirror_mode": {
    "name": "ipython",
    "version": 3
   },
   "file_extension": ".py",
   "mimetype": "text/x-python",
   "name": "python",
   "nbconvert_exporter": "python",
   "pygments_lexer": "ipython3",
   "version": "3.12.3"
  }
 },
 "nbformat": 4,
 "nbformat_minor": 2
}
