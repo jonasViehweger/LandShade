{
 "cells": [
  {
   "cell_type": "code",
   "execution_count": 125,
   "metadata": {},
   "outputs": [],
   "source": [
    "import polars as pl\n",
    "from scipy.interpolate import CubicSpline"
   ]
  },
  {
   "cell_type": "code",
   "execution_count": 126,
   "metadata": {},
   "outputs": [],
   "source": [
    "data = pl.read_csv(\"data/LandColor.csv\")"
   ]
  },
  {
   "cell_type": "code",
   "execution_count": 127,
   "metadata": {},
   "outputs": [],
   "source": [
    "long = (data\n",
    " .select(pl.all().exclude([\".geo\", \"system:index\"]))\n",
    " .unpivot(index = [\"date\", \"shapeGroup\", \"shapeName\", \"shapeType\"], variable_name = \"variable\", value_name=\"meanReflectance\")\n",
    " .with_columns(\n",
    "        pl.col(\"variable\").str.splitn('_',2).struct.rename_fields([\"landCover\",\"band\"])\n",
    "    )\n",
    " .unnest(\"variable\")\n",
    " .filter(shapeType=\"ADM0\")\n",
    ")"
   ]
  },
  {
   "cell_type": "code",
   "execution_count": 128,
   "metadata": {},
   "outputs": [],
   "source": [
    "# Cubic spline from Blue Marble Next Gen\n",
    "cs = CubicSpline([0,0.25,0.75,1], [0, 179, 240, 255])"
   ]
  },
  {
   "cell_type": "code",
   "execution_count": 129,
   "metadata": {},
   "outputs": [],
   "source": [
    "long_term_mean = long.group_by([\"shapeGroup\", \"shapeName\", \"band\", \"landCover\"]).agg(pl.col.meanReflectance.mean()).drop_nans()"
   ]
  },
  {
   "cell_type": "code",
   "execution_count": 130,
   "metadata": {},
   "outputs": [],
   "source": [
    "hexes = pl.Series(\"hex\", list(cs((long_term_mean[\"meanReflectance\"] * 0.0001))))"
   ]
  },
  {
   "cell_type": "code",
   "execution_count": 119,
   "metadata": {},
   "outputs": [
    {
     "data": {
      "text/html": [
       "<div><style>\n",
       ".dataframe > thead > tr,\n",
       ".dataframe > tbody > tr {\n",
       "  text-align: right;\n",
       "  white-space: pre-wrap;\n",
       "}\n",
       "</style>\n",
       "<small>shape: (3_963, 5)</small><table border=\"1\" class=\"dataframe\"><thead><tr><th>shapeName</th><th>landCover</th><th>band</th><th>meanReflectance</th><th>hex</th></tr><tr><td>str</td><td>str</td><td>str</td><td>f64</td><td>u8</td></tr></thead><tbody><tr><td>&quot;Afghanistan&quot;</td><td>&quot;builtup&quot;</td><td>&quot;blue&quot;</td><td>1056.069993</td><td>94</td></tr><tr><td>&quot;Afghanistan&quot;</td><td>&quot;builtup&quot;</td><td>&quot;green&quot;</td><td>1607.366646</td><td>132</td></tr><tr><td>&quot;Afghanistan&quot;</td><td>&quot;builtup&quot;</td><td>&quot;red&quot;</td><td>1931.855019</td><td>151</td></tr><tr><td>&quot;Afghanistan&quot;</td><td>&quot;crops&quot;</td><td>&quot;blue&quot;</td><td>1128.281424</td><td>100</td></tr><tr><td>&quot;Afghanistan&quot;</td><td>&quot;crops&quot;</td><td>&quot;green&quot;</td><td>1655.726108</td><td>135</td></tr><tr><td>&hellip;</td><td>&hellip;</td><td>&hellip;</td><td>&hellip;</td><td>&hellip;</td></tr><tr><td>&quot;Zimbabwe&quot;</td><td>&quot;water&quot;</td><td>&quot;green&quot;</td><td>235.483749</td><td>23</td></tr><tr><td>&quot;Zimbabwe&quot;</td><td>&quot;water&quot;</td><td>&quot;red&quot;</td><td>147.378857</td><td>15</td></tr><tr><td>&quot;Zimbabwe&quot;</td><td>&quot;wetland&quot;</td><td>&quot;blue&quot;</td><td>278.612434</td><td>28</td></tr><tr><td>&quot;Zimbabwe&quot;</td><td>&quot;wetland&quot;</td><td>&quot;green&quot;</td><td>510.82828</td><td>49</td></tr><tr><td>&quot;Zimbabwe&quot;</td><td>&quot;wetland&quot;</td><td>&quot;red&quot;</td><td>501.156235</td><td>48</td></tr></tbody></table></div>"
      ],
      "text/plain": [
       "shape: (3_963, 5)\n",
       "┌─────────────┬───────────┬───────┬─────────────────┬─────┐\n",
       "│ shapeName   ┆ landCover ┆ band  ┆ meanReflectance ┆ hex │\n",
       "│ ---         ┆ ---       ┆ ---   ┆ ---             ┆ --- │\n",
       "│ str         ┆ str       ┆ str   ┆ f64             ┆ u8  │\n",
       "╞═════════════╪═══════════╪═══════╪═════════════════╪═════╡\n",
       "│ Afghanistan ┆ builtup   ┆ blue  ┆ 1056.069993     ┆ 94  │\n",
       "│ Afghanistan ┆ builtup   ┆ green ┆ 1607.366646     ┆ 132 │\n",
       "│ Afghanistan ┆ builtup   ┆ red   ┆ 1931.855019     ┆ 151 │\n",
       "│ Afghanistan ┆ crops     ┆ blue  ┆ 1128.281424     ┆ 100 │\n",
       "│ Afghanistan ┆ crops     ┆ green ┆ 1655.726108     ┆ 135 │\n",
       "│ …           ┆ …         ┆ …     ┆ …               ┆ …   │\n",
       "│ Zimbabwe    ┆ water     ┆ green ┆ 235.483749      ┆ 23  │\n",
       "│ Zimbabwe    ┆ water     ┆ red   ┆ 147.378857      ┆ 15  │\n",
       "│ Zimbabwe    ┆ wetland   ┆ blue  ┆ 278.612434      ┆ 28  │\n",
       "│ Zimbabwe    ┆ wetland   ┆ green ┆ 510.82828       ┆ 49  │\n",
       "│ Zimbabwe    ┆ wetland   ┆ red   ┆ 501.156235      ┆ 48  │\n",
       "└─────────────┴───────────┴───────┴─────────────────┴─────┘"
      ]
     },
     "execution_count": 131,
     "metadata": {},
     "output_type": "execute_result"
    }
   ],
   "source": [
    "test = long_term_mean.with_columns(hex=hexes.cast(pl.UInt8)).select(\"shapeName\", \"landCover\",\"band\", \"meanReflectance\", \"hex\").sort([\"shapeName\", \"landCover\", \"band\"])\n",
    "test"
   ]
  },
  {
   "cell_type": "code",
   "execution_count": 121,
   "metadata": {},
   "outputs": [],
   "source": [
    "long_data = test.pivot(index=[\"shapeName\", \"landCover\"], values=\"hex\", on=\"band\").select(\"shapeName\", \"landCover\", \"red\", \"green\", \"blue\")"
   ]
  },
  {
   "cell_type": "code",
   "execution_count": 122,
   "metadata": {},
   "outputs": [
    {
     "data": {
      "text/html": [
       "<div><style>\n",
       ".dataframe > thead > tr,\n",
       ".dataframe > tbody > tr {\n",
       "  text-align: right;\n",
       "  white-space: pre-wrap;\n",
       "}\n",
       "</style>\n",
       "<small>shape: (1_321, 5)</small><table border=\"1\" class=\"dataframe\"><thead><tr><th>shapeName</th><th>landCover</th><th>red</th><th>green</th><th>blue</th></tr><tr><td>str</td><td>str</td><td>u8</td><td>u8</td><td>u8</td></tr></thead><tbody><tr><td>&quot;Afghanistan&quot;</td><td>&quot;builtup&quot;</td><td>151</td><td>132</td><td>94</td></tr><tr><td>&quot;Afghanistan&quot;</td><td>&quot;crops&quot;</td><td>152</td><td>135</td><td>100</td></tr><tr><td>&quot;Afghanistan&quot;</td><td>&quot;grassland&quot;</td><td>190</td><td>177</td><td>154</td></tr><tr><td>&quot;Afghanistan&quot;</td><td>&quot;savanna&quot;</td><td>89</td><td>84</td><td>60</td></tr><tr><td>&quot;Afghanistan&quot;</td><td>&quot;shrubs&quot;</td><td>171</td><td>145</td><td>106</td></tr><tr><td>&hellip;</td><td>&hellip;</td><td>&hellip;</td><td>&hellip;</td><td>&hellip;</td></tr><tr><td>&quot;Zimbabwe&quot;</td><td>&quot;grassland&quot;</td><td>101</td><td>82</td><td>48</td></tr><tr><td>&quot;Zimbabwe&quot;</td><td>&quot;savanna&quot;</td><td>77</td><td>67</td><td>36</td></tr><tr><td>&quot;Zimbabwe&quot;</td><td>&quot;shrubs&quot;</td><td>86</td><td>72</td><td>41</td></tr><tr><td>&quot;Zimbabwe&quot;</td><td>&quot;water&quot;</td><td>15</td><td>23</td><td>17</td></tr><tr><td>&quot;Zimbabwe&quot;</td><td>&quot;wetland&quot;</td><td>48</td><td>49</td><td>28</td></tr></tbody></table></div>"
      ],
      "text/plain": [
       "shape: (1_321, 5)\n",
       "┌─────────────┬───────────┬─────┬───────┬──────┐\n",
       "│ shapeName   ┆ landCover ┆ red ┆ green ┆ blue │\n",
       "│ ---         ┆ ---       ┆ --- ┆ ---   ┆ ---  │\n",
       "│ str         ┆ str       ┆ u8  ┆ u8    ┆ u8   │\n",
       "╞═════════════╪═══════════╪═════╪═══════╪══════╡\n",
       "│ Afghanistan ┆ builtup   ┆ 151 ┆ 132   ┆ 94   │\n",
       "│ Afghanistan ┆ crops     ┆ 152 ┆ 135   ┆ 100  │\n",
       "│ Afghanistan ┆ grassland ┆ 190 ┆ 177   ┆ 154  │\n",
       "│ Afghanistan ┆ savanna   ┆ 89  ┆ 84    ┆ 60   │\n",
       "│ Afghanistan ┆ shrubs    ┆ 171 ┆ 145   ┆ 106  │\n",
       "│ …           ┆ …         ┆ …   ┆ …     ┆ …    │\n",
       "│ Zimbabwe    ┆ grassland ┆ 101 ┆ 82    ┆ 48   │\n",
       "│ Zimbabwe    ┆ savanna   ┆ 77  ┆ 67    ┆ 36   │\n",
       "│ Zimbabwe    ┆ shrubs    ┆ 86  ┆ 72    ┆ 41   │\n",
       "│ Zimbabwe    ┆ water     ┆ 15  ┆ 23    ┆ 17   │\n",
       "│ Zimbabwe    ┆ wetland   ┆ 48  ┆ 49    ┆ 28   │\n",
       "└─────────────┴───────────┴─────┴───────┴──────┘"
      ]
     },
     "execution_count": 122,
     "metadata": {},
     "output_type": "execute_result"
    }
   ],
   "source": [
    "long_data"
   ]
  },
  {
   "cell_type": "code",
   "execution_count": 123,
   "metadata": {},
   "outputs": [],
   "source": [
    "# for name, data in long_data.group_by(\"shapeName\"):  \n",
    "#     country_name = name[0]\n",
    "#     print(country_name)\n",
    "#     for row in data.iter_rows():\n",
    "#         lu_name = row[1]\n",
    "#         rgb = row[2:]\n",
    "#         print(lu_name)\n",
    "#         print(\",\".join(map(str,rgb)))\n",
    "\n",
    "countries = {}\n",
    "for name, data in long_data.group_by(\"shapeName\"):\n",
    "    country_name = name[0]  \n",
    "    countries[country_name] = [\n",
    "        {\n",
    "            \"landCover\": row[1],\n",
    "            \"rgb\": \",\".join(map(str, row[2:]))\n",
    "        }\n",
    "        for row in data.iter_rows()\n",
    "    ]"
   ]
  },
  {
   "cell_type": "code",
   "execution_count": 124,
   "metadata": {},
   "outputs": [
    {
     "name": "stdout",
     "output_type": "stream",
     "text": [
      "HTML file has been generated and saved as land_cover_palettes.html.\n"
     ]
    }
   ],
   "source": [
    "from jinja2 import Template\n",
    "\n",
    "# HTML Template for the palette page\n",
    "html_template = \"\"\"\n",
    "<!DOCTYPE html>\n",
    "<html lang=\"en\">\n",
    "<head>\n",
    "    <meta charset=\"UTF-8\">\n",
    "    <meta name=\"viewport\" content=\"width=device-width, initial-scale=1.0\">\n",
    "    <title>Country Color Palettes</title>\n",
    "    <style>\n",
    "        body {\n",
    "            font-family: Arial, sans-serif;\n",
    "            margin: 20px;\n",
    "        }\n",
    "        .country {\n",
    "            margin-bottom: 30px;\n",
    "        }\n",
    "        .country h2 {\n",
    "            text-align: left;\n",
    "        }\n",
    "        .palette {\n",
    "            display: flex;\n",
    "            flex-wrap: wrap;\n",
    "        }\n",
    "        .color {\n",
    "            width: 100px;\n",
    "            height: 100px;\n",
    "            margin: 5px;\n",
    "            text-align: center;\n",
    "            color: #fff;\n",
    "            display: flex;\n",
    "            align-items: center;\n",
    "            justify-content: center;\n",
    "            border-radius: 5px;\n",
    "        }\n",
    "    </style>\n",
    "</head>\n",
    "<body>\n",
    "    <h1>Country Color Palettes</h1>\n",
    "    {% for country, colors in countries.items() %}\n",
    "    <div class=\"country\">\n",
    "        <h2>{{ country }}</h2>\n",
    "        <div class=\"palette\">\n",
    "            {% for color in colors %}\n",
    "            <div class=\"color\" style=\"background-color: rgb({{ color.rgb }});\">\n",
    "                {{ color.landCover }}\n",
    "            </div>\n",
    "            {% endfor %}\n",
    "        </div>\n",
    "    </div>\n",
    "    {% endfor %}\n",
    "</body>\n",
    "</html>\n",
    "\"\"\"\n",
    "\n",
    "# Render the HTML\n",
    "template = Template(html_template)\n",
    "html_content = template.render(countries=countries)\n",
    "\n",
    "# Save the HTML to a file\n",
    "output_file = \"land_cover_palettes.html\"\n",
    "with open(output_file, \"w\") as f:\n",
    "    f.write(html_content)\n",
    "\n",
    "print(f\"HTML file has been generated and saved as {output_file}.\")\n"
   ]
  },
  {
   "cell_type": "code",
   "execution_count": null,
   "metadata": {},
   "outputs": [],
   "source": []
  }
 ],
 "metadata": {
  "kernelspec": {
   "display_name": ".venv",
   "language": "python",
   "name": "python3"
  },
  "language_info": {
   "codemirror_mode": {
    "name": "ipython",
    "version": 3
   },
   "file_extension": ".py",
   "mimetype": "text/x-python",
   "name": "python",
   "nbconvert_exporter": "python",
   "pygments_lexer": "ipython3",
   "version": "3.12.3"
  }
 },
 "nbformat": 4,
 "nbformat_minor": 2
}
