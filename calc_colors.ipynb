{
 "cells": [
  {
   "cell_type": "code",
   "execution_count": 1,
   "metadata": {},
   "outputs": [],
   "source": [
    "import json\n",
    "from collections import defaultdict\n",
    "\n",
    "import polars as pl\n",
    "from scipy.interpolate import CubicSpline"
   ]
  },
  {
   "cell_type": "code",
   "execution_count": 2,
   "metadata": {},
   "outputs": [],
   "source": [
    "# Cubic spline from Blue Marble Next Gen\n",
    "cs = CubicSpline([0,0.25,0.75,1], [0, 179, 240, 255])\n",
    "\n",
    "def to_rgb(dataframe, groupby):\n",
    "    groupby = set(groupby)\n",
    "    later_select = groupby-{\"band\"}\n",
    "    means = dataframe.group_by(groupby).agg(pl.col.meanReflectance.mean()).drop_nans()\n",
    "    return (\n",
    "        means\n",
    "            .with_columns(\n",
    "                hex=pl.col.meanReflectance\n",
    "                    .map_elements(lambda meanRefl: float(cs((meanRefl * 0.0001))), return_dtype=pl.Float32)\n",
    "                    .cast(pl.UInt8, strict=False)\n",
    "            )\n",
    "            .drop_nulls()\n",
    "            .pivot(index=later_select, values=\"hex\", on=\"band\").select(*later_select, \"red\", \"green\", \"blue\")\n",
    "    )"
   ]
  },
  {
   "cell_type": "code",
   "execution_count": 3,
   "metadata": {},
   "outputs": [],
   "source": [
    "most_data = pl.read_csv(\"data/LandColor.csv\")\n",
    "forest_data = pl.read_csv(\"data/LandColorForest.csv\")\n",
    "weights = pl.read_parquet(\"data/weights.pq\")\n",
    "data = most_data.join(forest_data.select(\"shapeName\", \"date\", pl.selectors.starts_with(\"forest_\")), on=[\"shapeName\", \"date\"])"
   ]
  },
  {
   "cell_type": "code",
   "execution_count": 4,
   "metadata": {},
   "outputs": [],
   "source": [
    "mapping = {\"grassland\": \"Grasslands\", \"savanna\": \"Savannas\", \"wetland\": \"Wetlands\", \"forest\": \"Forests\", \"builtup\": \"Urban Areas\", \"water\": \"Water Areas\", \"crops\": \"Agricultural Areas\", \"shrubs\": \"Shrubs\"}\n",
    "long = (data\n",
    "    .select(pl.all().exclude([\".geo\", \"system:index\"]))\n",
    "    .unpivot(index = [\"date\", \"shapeGroup\", \"shapeName\", \"shapeType\"], variable_name = \"variable\", value_name=\"meanReflectance\")\n",
    "    .with_columns(\n",
    "        pl.from_epoch(pl.col(\"date\"), time_unit=\"ms\"),\n",
    "        pl.col(\"variable\").str.splitn('_',2).struct.rename_fields([\"landCover\",\"band\"]),\n",
    "    )\n",
    "    .unnest(\"variable\")\n",
    "    .with_columns(\n",
    "        pl.col.landCover.replace_strict(mapping),\n",
    "        month = pl.col.date.dt.month(),\n",
    "        year = pl.col.date.dt.year()\n",
    "    )\n",
    "    .join(weights.drop(\"date\"), on=[\"year\", \"shapeGroup\", \"landCover\"]).sort([\"shapeGroup\", \"landCover\", \"date\"])\n",
    "    .filter(shapeType=\"ADM0\")\n",
    "    .with_columns(pl.col.meanReflectance.replace(0, None))\n",
    ")"
   ]
  },
  {
   "cell_type": "code",
   "execution_count": 5,
   "metadata": {},
   "outputs": [
    {
     "data": {
      "text/html": [
       "<div><style>\n",
       ".dataframe > thead > tr,\n",
       ".dataframe > tbody > tr {\n",
       "  text-align: right;\n",
       "  white-space: pre-wrap;\n",
       "}\n",
       "</style>\n",
       "<small>shape: (1_044_396, 14)</small><table border=\"1\" class=\"dataframe\"><thead><tr><th>date</th><th>shapeGroup</th><th>shapeName</th><th>shapeType</th><th>landCover</th><th>band</th><th>meanReflectance</th><th>month</th><th>year</th><th>count</th><th>area</th><th>country_weight</th><th>country_land_cover_area</th><th>global_weight</th></tr><tr><td>datetime[ms]</td><td>str</td><td>str</td><td>str</td><td>str</td><td>str</td><td>f64</td><td>i8</td><td>i32</td><td>f64</td><td>f64</td><td>f64</td><td>f64</td><td>f64</td></tr></thead><tbody><tr><td>2001-01-01 00:00:00</td><td>&quot;AFG&quot;</td><td>&quot;Afghanistan&quot;</td><td>&quot;ADM0&quot;</td><td>&quot;Agricultural Areas&quot;</td><td>&quot;green&quot;</td><td>2190.182275</td><td>1</td><td>2001</td><td>79488.341176</td><td>641816.445142</td><td>0.047653</td><td>30584.45703</td><td>0.002167</td></tr><tr><td>2001-01-01 00:00:00</td><td>&quot;AFG&quot;</td><td>&quot;Afghanistan&quot;</td><td>&quot;ADM0&quot;</td><td>&quot;Agricultural Areas&quot;</td><td>&quot;red&quot;</td><td>2392.099491</td><td>1</td><td>2001</td><td>79488.341176</td><td>641816.445142</td><td>0.047653</td><td>30584.45703</td><td>0.002167</td></tr><tr><td>2001-01-01 00:00:00</td><td>&quot;AFG&quot;</td><td>&quot;Afghanistan&quot;</td><td>&quot;ADM0&quot;</td><td>&quot;Agricultural Areas&quot;</td><td>&quot;blue&quot;</td><td>1833.410441</td><td>1</td><td>2001</td><td>79488.341176</td><td>641816.445142</td><td>0.047653</td><td>30584.45703</td><td>0.002167</td></tr><tr><td>2001-02-01 00:00:00</td><td>&quot;AFG&quot;</td><td>&quot;Afghanistan&quot;</td><td>&quot;ADM0&quot;</td><td>&quot;Agricultural Areas&quot;</td><td>&quot;blue&quot;</td><td>1832.266534</td><td>2</td><td>2001</td><td>79488.341176</td><td>641816.445142</td><td>0.047653</td><td>30584.45703</td><td>0.002167</td></tr><tr><td>2001-02-01 00:00:00</td><td>&quot;AFG&quot;</td><td>&quot;Afghanistan&quot;</td><td>&quot;ADM0&quot;</td><td>&quot;Agricultural Areas&quot;</td><td>&quot;green&quot;</td><td>2193.452812</td><td>2</td><td>2001</td><td>79488.341176</td><td>641816.445142</td><td>0.047653</td><td>30584.45703</td><td>0.002167</td></tr><tr><td>&hellip;</td><td>&hellip;</td><td>&hellip;</td><td>&hellip;</td><td>&hellip;</td><td>&hellip;</td><td>&hellip;</td><td>&hellip;</td><td>&hellip;</td><td>&hellip;</td><td>&hellip;</td><td>&hellip;</td><td>&hellip;</td><td>&hellip;</td></tr><tr><td>2020-11-01 00:00:00</td><td>&quot;ZWE&quot;</td><td>&quot;Zimbabwe&quot;</td><td>&quot;ADM0&quot;</td><td>&quot;Wetlands&quot;</td><td>&quot;red&quot;</td><td>683.697297</td><td>11</td><td>2020</td><td>1510.666667</td><td>390728.902197</td><td>0.000859</td><td>335.806986</td><td>0.000216</td></tr><tr><td>2020-11-01 00:00:00</td><td>&quot;ZWE&quot;</td><td>&quot;Zimbabwe&quot;</td><td>&quot;ADM0&quot;</td><td>&quot;Wetlands&quot;</td><td>&quot;green&quot;</td><td>619.259722</td><td>11</td><td>2020</td><td>1510.666667</td><td>390728.902197</td><td>0.000859</td><td>335.806986</td><td>0.000216</td></tr><tr><td>2020-12-01 00:00:00</td><td>&quot;ZWE&quot;</td><td>&quot;Zimbabwe&quot;</td><td>&quot;ADM0&quot;</td><td>&quot;Wetlands&quot;</td><td>&quot;red&quot;</td><td>647.287001</td><td>12</td><td>2020</td><td>1510.666667</td><td>390728.902197</td><td>0.000859</td><td>335.806986</td><td>0.000216</td></tr><tr><td>2020-12-01 00:00:00</td><td>&quot;ZWE&quot;</td><td>&quot;Zimbabwe&quot;</td><td>&quot;ADM0&quot;</td><td>&quot;Wetlands&quot;</td><td>&quot;green&quot;</td><td>719.752124</td><td>12</td><td>2020</td><td>1510.666667</td><td>390728.902197</td><td>0.000859</td><td>335.806986</td><td>0.000216</td></tr><tr><td>2020-12-01 00:00:00</td><td>&quot;ZWE&quot;</td><td>&quot;Zimbabwe&quot;</td><td>&quot;ADM0&quot;</td><td>&quot;Wetlands&quot;</td><td>&quot;blue&quot;</td><td>367.559213</td><td>12</td><td>2020</td><td>1510.666667</td><td>390728.902197</td><td>0.000859</td><td>335.806986</td><td>0.000216</td></tr></tbody></table></div>"
      ],
      "text/plain": [
       "shape: (1_044_396, 14)\n",
       "┌───────────┬───────────┬───────────┬───────────┬───┬───────────┬───────────┬───────────┬──────────┐\n",
       "│ date      ┆ shapeGrou ┆ shapeName ┆ shapeType ┆ … ┆ area      ┆ country_w ┆ country_l ┆ global_w │\n",
       "│ ---       ┆ p         ┆ ---       ┆ ---       ┆   ┆ ---       ┆ eight     ┆ and_cover ┆ eight    │\n",
       "│ datetime[ ┆ ---       ┆ str       ┆ str       ┆   ┆ f64       ┆ ---       ┆ _area     ┆ ---      │\n",
       "│ ms]       ┆ str       ┆           ┆           ┆   ┆           ┆ f64       ┆ ---       ┆ f64      │\n",
       "│           ┆           ┆           ┆           ┆   ┆           ┆           ┆ f64       ┆          │\n",
       "╞═══════════╪═══════════╪═══════════╪═══════════╪═══╪═══════════╪═══════════╪═══════════╪══════════╡\n",
       "│ 2001-01-0 ┆ AFG       ┆ Afghanist ┆ ADM0      ┆ … ┆ 641816.44 ┆ 0.047653  ┆ 30584.457 ┆ 0.002167 │\n",
       "│ 1         ┆           ┆ an        ┆           ┆   ┆ 5142      ┆           ┆ 03        ┆          │\n",
       "│ 00:00:00  ┆           ┆           ┆           ┆   ┆           ┆           ┆           ┆          │\n",
       "│ 2001-01-0 ┆ AFG       ┆ Afghanist ┆ ADM0      ┆ … ┆ 641816.44 ┆ 0.047653  ┆ 30584.457 ┆ 0.002167 │\n",
       "│ 1         ┆           ┆ an        ┆           ┆   ┆ 5142      ┆           ┆ 03        ┆          │\n",
       "│ 00:00:00  ┆           ┆           ┆           ┆   ┆           ┆           ┆           ┆          │\n",
       "│ 2001-01-0 ┆ AFG       ┆ Afghanist ┆ ADM0      ┆ … ┆ 641816.44 ┆ 0.047653  ┆ 30584.457 ┆ 0.002167 │\n",
       "│ 1         ┆           ┆ an        ┆           ┆   ┆ 5142      ┆           ┆ 03        ┆          │\n",
       "│ 00:00:00  ┆           ┆           ┆           ┆   ┆           ┆           ┆           ┆          │\n",
       "│ 2001-02-0 ┆ AFG       ┆ Afghanist ┆ ADM0      ┆ … ┆ 641816.44 ┆ 0.047653  ┆ 30584.457 ┆ 0.002167 │\n",
       "│ 1         ┆           ┆ an        ┆           ┆   ┆ 5142      ┆           ┆ 03        ┆          │\n",
       "│ 00:00:00  ┆           ┆           ┆           ┆   ┆           ┆           ┆           ┆          │\n",
       "│ 2001-02-0 ┆ AFG       ┆ Afghanist ┆ ADM0      ┆ … ┆ 641816.44 ┆ 0.047653  ┆ 30584.457 ┆ 0.002167 │\n",
       "│ 1         ┆           ┆ an        ┆           ┆   ┆ 5142      ┆           ┆ 03        ┆          │\n",
       "│ 00:00:00  ┆           ┆           ┆           ┆   ┆           ┆           ┆           ┆          │\n",
       "│ …         ┆ …         ┆ …         ┆ …         ┆ … ┆ …         ┆ …         ┆ …         ┆ …        │\n",
       "│ 2020-11-0 ┆ ZWE       ┆ Zimbabwe  ┆ ADM0      ┆ … ┆ 390728.90 ┆ 0.000859  ┆ 335.80698 ┆ 0.000216 │\n",
       "│ 1         ┆           ┆           ┆           ┆   ┆ 2197      ┆           ┆ 6         ┆          │\n",
       "│ 00:00:00  ┆           ┆           ┆           ┆   ┆           ┆           ┆           ┆          │\n",
       "│ 2020-11-0 ┆ ZWE       ┆ Zimbabwe  ┆ ADM0      ┆ … ┆ 390728.90 ┆ 0.000859  ┆ 335.80698 ┆ 0.000216 │\n",
       "│ 1         ┆           ┆           ┆           ┆   ┆ 2197      ┆           ┆ 6         ┆          │\n",
       "│ 00:00:00  ┆           ┆           ┆           ┆   ┆           ┆           ┆           ┆          │\n",
       "│ 2020-12-0 ┆ ZWE       ┆ Zimbabwe  ┆ ADM0      ┆ … ┆ 390728.90 ┆ 0.000859  ┆ 335.80698 ┆ 0.000216 │\n",
       "│ 1         ┆           ┆           ┆           ┆   ┆ 2197      ┆           ┆ 6         ┆          │\n",
       "│ 00:00:00  ┆           ┆           ┆           ┆   ┆           ┆           ┆           ┆          │\n",
       "│ 2020-12-0 ┆ ZWE       ┆ Zimbabwe  ┆ ADM0      ┆ … ┆ 390728.90 ┆ 0.000859  ┆ 335.80698 ┆ 0.000216 │\n",
       "│ 1         ┆           ┆           ┆           ┆   ┆ 2197      ┆           ┆ 6         ┆          │\n",
       "│ 00:00:00  ┆           ┆           ┆           ┆   ┆           ┆           ┆           ┆          │\n",
       "│ 2020-12-0 ┆ ZWE       ┆ Zimbabwe  ┆ ADM0      ┆ … ┆ 390728.90 ┆ 0.000859  ┆ 335.80698 ┆ 0.000216 │\n",
       "│ 1         ┆           ┆           ┆           ┆   ┆ 2197      ┆           ┆ 6         ┆          │\n",
       "│ 00:00:00  ┆           ┆           ┆           ┆   ┆           ┆           ┆           ┆          │\n",
       "└───────────┴───────────┴───────────┴───────────┴───┴───────────┴───────────┴───────────┴──────────┘"
      ]
     },
     "execution_count": 5,
     "metadata": {},
     "output_type": "execute_result"
    }
   ],
   "source": [
    "long"
   ]
  },
  {
   "cell_type": "code",
   "execution_count": 6,
   "metadata": {},
   "outputs": [
    {
     "data": {
      "text/html": [
       "<div><style>\n",
       ".dataframe > thead > tr,\n",
       ".dataframe > tbody > tr {\n",
       "  text-align: right;\n",
       "  white-space: pre-wrap;\n",
       "}\n",
       "</style>\n",
       "<small>shape: (348_132, 13)</small><table border=\"1\" class=\"dataframe\"><thead><tr><th>shapeGroup</th><th>shapeName</th><th>landCover</th><th>date</th><th>green</th><th>red</th><th>blue</th><th>year</th><th>count</th><th>area</th><th>country_weight</th><th>country_land_cover_area</th><th>global_weight</th></tr><tr><td>str</td><td>str</td><td>str</td><td>datetime[ms]</td><td>f64</td><td>f64</td><td>f64</td><td>i32</td><td>f64</td><td>f64</td><td>f64</td><td>f64</td><td>f64</td></tr></thead><tbody><tr><td>&quot;AFG&quot;</td><td>&quot;Afghanistan&quot;</td><td>&quot;Agricultural Areas&quot;</td><td>2001-01-01 00:00:00</td><td>2190.182275</td><td>2392.099491</td><td>1833.410441</td><td>2001</td><td>79488.341176</td><td>641816.445142</td><td>0.047653</td><td>30584.45703</td><td>0.002167</td></tr><tr><td>&quot;AFG&quot;</td><td>&quot;Afghanistan&quot;</td><td>&quot;Agricultural Areas&quot;</td><td>2001-02-01 00:00:00</td><td>2193.452812</td><td>2371.129479</td><td>1832.266534</td><td>2001</td><td>79488.341176</td><td>641816.445142</td><td>0.047653</td><td>30584.45703</td><td>0.002167</td></tr><tr><td>&quot;AFG&quot;</td><td>&quot;Afghanistan&quot;</td><td>&quot;Agricultural Areas&quot;</td><td>2001-03-01 00:00:00</td><td>1364.326984</td><td>1553.542652</td><td>836.470372</td><td>2001</td><td>79488.341176</td><td>641816.445142</td><td>0.047653</td><td>30584.45703</td><td>0.002167</td></tr><tr><td>&quot;AFG&quot;</td><td>&quot;Afghanistan&quot;</td><td>&quot;Agricultural Areas&quot;</td><td>2001-04-01 00:00:00</td><td>1390.41704</td><td>1562.20156</td><td>799.839182</td><td>2001</td><td>79488.341176</td><td>641816.445142</td><td>0.047653</td><td>30584.45703</td><td>0.002167</td></tr><tr><td>&quot;AFG&quot;</td><td>&quot;Afghanistan&quot;</td><td>&quot;Agricultural Areas&quot;</td><td>2001-05-01 00:00:00</td><td>1559.158079</td><td>1912.167028</td><td>950.918963</td><td>2001</td><td>79488.341176</td><td>641816.445142</td><td>0.047653</td><td>30584.45703</td><td>0.002167</td></tr><tr><td>&hellip;</td><td>&hellip;</td><td>&hellip;</td><td>&hellip;</td><td>&hellip;</td><td>&hellip;</td><td>&hellip;</td><td>&hellip;</td><td>&hellip;</td><td>&hellip;</td><td>&hellip;</td><td>&hellip;</td><td>&hellip;</td></tr><tr><td>&quot;ZWE&quot;</td><td>&quot;Zimbabwe&quot;</td><td>&quot;Wetlands&quot;</td><td>2020-08-01 00:00:00</td><td>451.755147</td><td>533.52457</td><td>272.968553</td><td>2020</td><td>1510.666667</td><td>390728.902197</td><td>0.000859</td><td>335.806986</td><td>0.000216</td></tr><tr><td>&quot;ZWE&quot;</td><td>&quot;Zimbabwe&quot;</td><td>&quot;Wetlands&quot;</td><td>2020-09-01 00:00:00</td><td>494.679556</td><td>603.81844</td><td>321.168318</td><td>2020</td><td>1510.666667</td><td>390728.902197</td><td>0.000859</td><td>335.806986</td><td>0.000216</td></tr><tr><td>&quot;ZWE&quot;</td><td>&quot;Zimbabwe&quot;</td><td>&quot;Wetlands&quot;</td><td>2020-10-01 00:00:00</td><td>553.890404</td><td>650.789711</td><td>336.434467</td><td>2020</td><td>1510.666667</td><td>390728.902197</td><td>0.000859</td><td>335.806986</td><td>0.000216</td></tr><tr><td>&quot;ZWE&quot;</td><td>&quot;Zimbabwe&quot;</td><td>&quot;Wetlands&quot;</td><td>2020-11-01 00:00:00</td><td>619.259722</td><td>683.697297</td><td>341.084108</td><td>2020</td><td>1510.666667</td><td>390728.902197</td><td>0.000859</td><td>335.806986</td><td>0.000216</td></tr><tr><td>&quot;ZWE&quot;</td><td>&quot;Zimbabwe&quot;</td><td>&quot;Wetlands&quot;</td><td>2020-12-01 00:00:00</td><td>719.752124</td><td>647.287001</td><td>367.559213</td><td>2020</td><td>1510.666667</td><td>390728.902197</td><td>0.000859</td><td>335.806986</td><td>0.000216</td></tr></tbody></table></div>"
      ],
      "text/plain": [
       "shape: (348_132, 13)\n",
       "┌───────────┬───────────┬───────────┬───────────┬───┬───────────┬───────────┬───────────┬──────────┐\n",
       "│ shapeGrou ┆ shapeName ┆ landCover ┆ date      ┆ … ┆ area      ┆ country_w ┆ country_l ┆ global_w │\n",
       "│ p         ┆ ---       ┆ ---       ┆ ---       ┆   ┆ ---       ┆ eight     ┆ and_cover ┆ eight    │\n",
       "│ ---       ┆ str       ┆ str       ┆ datetime[ ┆   ┆ f64       ┆ ---       ┆ _area     ┆ ---      │\n",
       "│ str       ┆           ┆           ┆ ms]       ┆   ┆           ┆ f64       ┆ ---       ┆ f64      │\n",
       "│           ┆           ┆           ┆           ┆   ┆           ┆           ┆ f64       ┆          │\n",
       "╞═══════════╪═══════════╪═══════════╪═══════════╪═══╪═══════════╪═══════════╪═══════════╪══════════╡\n",
       "│ AFG       ┆ Afghanist ┆ Agricultu ┆ 2001-01-0 ┆ … ┆ 641816.44 ┆ 0.047653  ┆ 30584.457 ┆ 0.002167 │\n",
       "│           ┆ an        ┆ ral Areas ┆ 1         ┆   ┆ 5142      ┆           ┆ 03        ┆          │\n",
       "│           ┆           ┆           ┆ 00:00:00  ┆   ┆           ┆           ┆           ┆          │\n",
       "│ AFG       ┆ Afghanist ┆ Agricultu ┆ 2001-02-0 ┆ … ┆ 641816.44 ┆ 0.047653  ┆ 30584.457 ┆ 0.002167 │\n",
       "│           ┆ an        ┆ ral Areas ┆ 1         ┆   ┆ 5142      ┆           ┆ 03        ┆          │\n",
       "│           ┆           ┆           ┆ 00:00:00  ┆   ┆           ┆           ┆           ┆          │\n",
       "│ AFG       ┆ Afghanist ┆ Agricultu ┆ 2001-03-0 ┆ … ┆ 641816.44 ┆ 0.047653  ┆ 30584.457 ┆ 0.002167 │\n",
       "│           ┆ an        ┆ ral Areas ┆ 1         ┆   ┆ 5142      ┆           ┆ 03        ┆          │\n",
       "│           ┆           ┆           ┆ 00:00:00  ┆   ┆           ┆           ┆           ┆          │\n",
       "│ AFG       ┆ Afghanist ┆ Agricultu ┆ 2001-04-0 ┆ … ┆ 641816.44 ┆ 0.047653  ┆ 30584.457 ┆ 0.002167 │\n",
       "│           ┆ an        ┆ ral Areas ┆ 1         ┆   ┆ 5142      ┆           ┆ 03        ┆          │\n",
       "│           ┆           ┆           ┆ 00:00:00  ┆   ┆           ┆           ┆           ┆          │\n",
       "│ AFG       ┆ Afghanist ┆ Agricultu ┆ 2001-05-0 ┆ … ┆ 641816.44 ┆ 0.047653  ┆ 30584.457 ┆ 0.002167 │\n",
       "│           ┆ an        ┆ ral Areas ┆ 1         ┆   ┆ 5142      ┆           ┆ 03        ┆          │\n",
       "│           ┆           ┆           ┆ 00:00:00  ┆   ┆           ┆           ┆           ┆          │\n",
       "│ …         ┆ …         ┆ …         ┆ …         ┆ … ┆ …         ┆ …         ┆ …         ┆ …        │\n",
       "│ ZWE       ┆ Zimbabwe  ┆ Wetlands  ┆ 2020-08-0 ┆ … ┆ 390728.90 ┆ 0.000859  ┆ 335.80698 ┆ 0.000216 │\n",
       "│           ┆           ┆           ┆ 1         ┆   ┆ 2197      ┆           ┆ 6         ┆          │\n",
       "│           ┆           ┆           ┆ 00:00:00  ┆   ┆           ┆           ┆           ┆          │\n",
       "│ ZWE       ┆ Zimbabwe  ┆ Wetlands  ┆ 2020-09-0 ┆ … ┆ 390728.90 ┆ 0.000859  ┆ 335.80698 ┆ 0.000216 │\n",
       "│           ┆           ┆           ┆ 1         ┆   ┆ 2197      ┆           ┆ 6         ┆          │\n",
       "│           ┆           ┆           ┆ 00:00:00  ┆   ┆           ┆           ┆           ┆          │\n",
       "│ ZWE       ┆ Zimbabwe  ┆ Wetlands  ┆ 2020-10-0 ┆ … ┆ 390728.90 ┆ 0.000859  ┆ 335.80698 ┆ 0.000216 │\n",
       "│           ┆           ┆           ┆ 1         ┆   ┆ 2197      ┆           ┆ 6         ┆          │\n",
       "│           ┆           ┆           ┆ 00:00:00  ┆   ┆           ┆           ┆           ┆          │\n",
       "│ ZWE       ┆ Zimbabwe  ┆ Wetlands  ┆ 2020-11-0 ┆ … ┆ 390728.90 ┆ 0.000859  ┆ 335.80698 ┆ 0.000216 │\n",
       "│           ┆           ┆           ┆ 1         ┆   ┆ 2197      ┆           ┆ 6         ┆          │\n",
       "│           ┆           ┆           ┆ 00:00:00  ┆   ┆           ┆           ┆           ┆          │\n",
       "│ ZWE       ┆ Zimbabwe  ┆ Wetlands  ┆ 2020-12-0 ┆ … ┆ 390728.90 ┆ 0.000859  ┆ 335.80698 ┆ 0.000216 │\n",
       "│           ┆           ┆           ┆ 1         ┆   ┆ 2197      ┆           ┆ 6         ┆          │\n",
       "│           ┆           ┆           ┆ 00:00:00  ┆   ┆           ┆           ┆           ┆          │\n",
       "└───────────┴───────────┴───────────┴───────────┴───┴───────────┴───────────┴───────────┴──────────┘"
      ]
     },
     "execution_count": 6,
     "metadata": {},
     "output_type": "execute_result"
    }
   ],
   "source": [
    "raw_export_with_weights = (\n",
    "    long\n",
    "        .pivot(index=[\"shapeGroup\", \"shapeName\", \"landCover\", \"date\"], values=\"meanReflectance\", on=\"band\")\n",
    "        .with_columns(\n",
    "            year=pl.col.date.dt.year(),\n",
    "        )\n",
    "        .join(weights.drop(\"date\"), on=[\"year\", \"shapeGroup\", \"landCover\"]).sort([\"shapeGroup\", \"landCover\", \"date\"])\n",
    "        \n",
    ")\n",
    "raw_export_with_weights"
   ]
  },
  {
   "cell_type": "code",
   "execution_count": 7,
   "metadata": {},
   "outputs": [],
   "source": [
    "raw_export_with_weights.write_parquet(\"data/exported_reflectances.pq\")"
   ]
  },
  {
   "cell_type": "markdown",
   "metadata": {},
   "source": [
    "## Sidetrack: Country lookup table\n",
    "\n",
    "Also In the name, swapping everything which comes after a comma (e.g. Bahamas, The) to the front of the name"
   ]
  },
  {
   "cell_type": "code",
   "execution_count": 8,
   "metadata": {},
   "outputs": [],
   "source": [
    "country_dicts = (\n",
    "    long\n",
    "    .unique(\"shapeGroup\")\n",
    "    .select(\"shapeGroup\", \"shapeName\")\n",
    "    .sort(\"shapeName\")\n",
    "    .with_columns(pl.col.shapeName.str.split(\", \").list.reverse().list.join(\" \")) # putting things after the comma first\n",
    "    .to_dicts())\n",
    "\n",
    "country_lookup = {}\n",
    "for item in country_dicts:\n",
    "    country_lookup[item[\"shapeName\"]] = item[\"shapeGroup\"]\n",
    "\n",
    "with open(\"countries.json\", \"w\") as f:\n",
    "    json.dump(country_lookup, f, indent=2)"
   ]
  },
  {
   "cell_type": "code",
   "execution_count": 9,
   "metadata": {},
   "outputs": [],
   "source": [
    "monthly_mean_dicts = raw_export_with_weights.drop(\"date\").to_dicts()\n",
    "with open(\"data/exported_reflectances.js\", \"w\") as fp:\n",
    "    fp.write(\"var colors = \"+json.dumps(monthly_mean_dicts))"
   ]
  },
  {
   "cell_type": "markdown",
   "metadata": {},
   "source": [
    "## Derive means"
   ]
  },
  {
   "cell_type": "code",
   "execution_count": 10,
   "metadata": {},
   "outputs": [],
   "source": [
    "# computing average color per land cover\n",
    "total_land_cover_mean = (\n",
    "    long\n",
    "    .group_by(\"shapeGroup\", \"landCover\", \"band\")\n",
    "    .agg(\n",
    "        (pl.col.meanReflectance * pl.col.country_weight).sum() / pl.col.country_weight.filter(pl.col.meanReflectance.is_not_null()).sum(),\n",
    "    )\n",
    ")"
   ]
  },
  {
   "cell_type": "code",
   "execution_count": 11,
   "metadata": {},
   "outputs": [],
   "source": [
    "# compute total average color, weighted by land cover fraction\n",
    "total_country_mean = (\n",
    "    long\n",
    "    .group_by(\"shapeGroup\", \"band\")\n",
    "    .agg(\n",
    "        (pl.col.meanReflectance * pl.col.country_weight).sum() / pl.col.country_weight.filter(pl.col.meanReflectance.is_not_null()).sum(),\n",
    "    )\n",
    "    .with_columns(landCover=pl.lit(\"Total Mean Color\"))\n",
    ")"
   ]
  },
  {
   "cell_type": "markdown",
   "metadata": {},
   "source": [
    "##  Monthly data"
   ]
  },
  {
   "cell_type": "code",
   "execution_count": 12,
   "metadata": {},
   "outputs": [],
   "source": [
    "monthly_reflectances = (\n",
    "    long\n",
    "    .group_by(\"shapeGroup\", \"landCover\", \"band\", \"month\")\n",
    "    .agg(\n",
    "        (pl.col.meanReflectance * pl.col.country_weight).sum() / pl.col.country_weight.filter(pl.col.meanReflectance.is_not_null()).sum(),\n",
    "    )\n",
    ")"
   ]
  },
  {
   "cell_type": "code",
   "execution_count": 13,
   "metadata": {},
   "outputs": [],
   "source": [
    "monthly_total_reflectances = (\n",
    "    long\n",
    "    .group_by(\"shapeGroup\", \"band\", \"month\")\n",
    "    .agg(\n",
    "        (pl.col.meanReflectance * pl.col.country_weight).sum() / pl.col.country_weight.filter(pl.col.meanReflectance.is_not_null()).sum(),\n",
    "    )\n",
    "    .with_columns(landCover=pl.lit(\"Full Country\"))\n",
    ")"
   ]
  },
  {
   "cell_type": "markdown",
   "metadata": {},
   "source": [
    "## Global means\n"
   ]
  },
  {
   "cell_type": "code",
   "execution_count": 14,
   "metadata": {},
   "outputs": [],
   "source": [
    "mean_query = (pl.col.meanReflectance * pl.col.global_weight).sum() / pl.col.global_weight.filter(pl.col.meanReflectance.is_not_null()).sum()"
   ]
  },
  {
   "cell_type": "code",
   "execution_count": 15,
   "metadata": {},
   "outputs": [],
   "source": [
    "# computing average color per land cover\n",
    "global_land_cover_mean = (\n",
    "    long\n",
    "    .group_by(\"landCover\", \"band\")\n",
    "    .agg(mean_query)\n",
    "    .with_columns(shapeGroup=pl.lit(\"GLOBAL\"))\n",
    ")"
   ]
  },
  {
   "cell_type": "code",
   "execution_count": 16,
   "metadata": {},
   "outputs": [],
   "source": [
    "# compute total average color, weighted by land cover fraction\n",
    "global_mean = (\n",
    "    long\n",
    "    .group_by(\"band\")\n",
    "    .agg(mean_query)\n",
    "    .with_columns(landCover=pl.lit(\"All Land Cover\"), shapeGroup=pl.lit(\"GLOBAL\"))\n",
    ")"
   ]
  },
  {
   "cell_type": "code",
   "execution_count": 17,
   "metadata": {},
   "outputs": [],
   "source": [
    "global_monthly_reflectances = (\n",
    "    long\n",
    "    .group_by(\"landCover\", \"band\", \"month\")\n",
    "    .agg(mean_query)\n",
    "    .with_columns(shapeGroup=pl.lit(\"GLOBAL\"))\n",
    ")\n",
    "\n",
    "global_monthly_total_reflectances = (\n",
    "    long\n",
    "    .group_by(\"band\", \"month\")\n",
    "    .agg(mean_query)\n",
    "    .with_columns(landCover=pl.lit(\"All Land Cover\"), shapeGroup=pl.lit(\"GLOBAL\"))\n",
    ")"
   ]
  },
  {
   "cell_type": "markdown",
   "metadata": {},
   "source": [
    "## Rework for export"
   ]
  },
  {
   "cell_type": "code",
   "execution_count": 18,
   "metadata": {},
   "outputs": [],
   "source": [
    "concat_total = pl.concat([global_mean, global_land_cover_mean, total_land_cover_mean, total_country_mean], how=\"diagonal\").with_columns(pl.col.meanReflectance.replace(0, None)).to_dicts()"
   ]
  },
  {
   "cell_type": "code",
   "execution_count": 19,
   "metadata": {},
   "outputs": [],
   "source": [
    "concat_monthly = pl.concat([\n",
    "    global_monthly_reflectances, \n",
    "    global_monthly_total_reflectances,\n",
    "    monthly_reflectances, \n",
    "    monthly_total_reflectances\n",
    "    ], how=\"diagonal\").with_columns(pl.col.meanReflectance.replace(0, None))"
   ]
  },
  {
   "cell_type": "code",
   "execution_count": 23,
   "metadata": {},
   "outputs": [
    {
     "name": "stderr",
     "output_type": "stream",
     "text": [
      "/tmp/ipykernel_39978/2439891685.py:10: MapWithoutReturnDtypeWarning: Calling `map_elements` without specifying `return_dtype` can lead to unpredictable results. Specify `return_dtype` to silence this warning.\n",
      "  .with_columns([\n"
     ]
    },
    {
     "data": {
      "text/html": [
       "<div><style>\n",
       ".dataframe > thead > tr,\n",
       ".dataframe > tbody > tr {\n",
       "  text-align: right;\n",
       "  white-space: pre-wrap;\n",
       "}\n",
       "</style>\n",
       "<small>shape: (20_520, 4)</small><table border=\"1\" class=\"dataframe\"><thead><tr><th>shapeGroup</th><th>landCover</th><th>month</th><th>band_reflectance</th></tr><tr><td>str</td><td>str</td><td>i8</td><td>struct[3]</td></tr></thead><tbody><tr><td>&quot;AFG&quot;</td><td>&quot;Agricultural Areas&quot;</td><td>1</td><td>{2316.795468,2109.43491,1770.750665}</td></tr><tr><td>&quot;AFG&quot;</td><td>&quot;Agricultural Areas&quot;</td><td>2</td><td>{2391.546344,2212.532464,1846.258909}</td></tr><tr><td>&quot;AFG&quot;</td><td>&quot;Agricultural Areas&quot;</td><td>3</td><td>{1617.656422,1444.377545,932.051506}</td></tr><tr><td>&quot;AFG&quot;</td><td>&quot;Agricultural Areas&quot;</td><td>4</td><td>{1428.484038,1319.759173,746.147276}</td></tr><tr><td>&quot;AFG&quot;</td><td>&quot;Agricultural Areas&quot;</td><td>5</td><td>{1646.291456,1414.953557,823.417359}</td></tr><tr><td>&hellip;</td><td>&hellip;</td><td>&hellip;</td><td>&hellip;</td></tr><tr><td>&quot;ZWE&quot;</td><td>&quot;Wetlands&quot;</td><td>8</td><td>{485.277742,431.588257,254.372991}</td></tr><tr><td>&quot;ZWE&quot;</td><td>&quot;Wetlands&quot;</td><td>9</td><td>{571.796955,491.168866,307.820587}</td></tr><tr><td>&quot;ZWE&quot;</td><td>&quot;Wetlands&quot;</td><td>10</td><td>{654.733096,565.752316,347.317543}</td></tr><tr><td>&quot;ZWE&quot;</td><td>&quot;Wetlands&quot;</td><td>11</td><td>{655.481696,605.136484,342.84347}</td></tr><tr><td>&quot;ZWE&quot;</td><td>&quot;Wetlands&quot;</td><td>12</td><td>{572.530042,620.499379,320.04872}</td></tr></tbody></table></div>"
      ],
      "text/plain": [
       "shape: (20_520, 4)\n",
       "┌────────────┬────────────────────┬───────┬─────────────────────────────────┐\n",
       "│ shapeGroup ┆ landCover          ┆ month ┆ band_reflectance                │\n",
       "│ ---        ┆ ---                ┆ ---   ┆ ---                             │\n",
       "│ str        ┆ str                ┆ i8    ┆ struct[3]                       │\n",
       "╞════════════╪════════════════════╪═══════╪═════════════════════════════════╡\n",
       "│ AFG        ┆ Agricultural Areas ┆ 1     ┆ {2316.795468,2109.43491,1770.7… │\n",
       "│ AFG        ┆ Agricultural Areas ┆ 2     ┆ {2391.546344,2212.532464,1846.… │\n",
       "│ AFG        ┆ Agricultural Areas ┆ 3     ┆ {1617.656422,1444.377545,932.0… │\n",
       "│ AFG        ┆ Agricultural Areas ┆ 4     ┆ {1428.484038,1319.759173,746.1… │\n",
       "│ AFG        ┆ Agricultural Areas ┆ 5     ┆ {1646.291456,1414.953557,823.4… │\n",
       "│ …          ┆ …                  ┆ …     ┆ …                               │\n",
       "│ ZWE        ┆ Wetlands           ┆ 8     ┆ {485.277742,431.588257,254.372… │\n",
       "│ ZWE        ┆ Wetlands           ┆ 9     ┆ {571.796955,491.168866,307.820… │\n",
       "│ ZWE        ┆ Wetlands           ┆ 10    ┆ {654.733096,565.752316,347.317… │\n",
       "│ ZWE        ┆ Wetlands           ┆ 11    ┆ {655.481696,605.136484,342.843… │\n",
       "│ ZWE        ┆ Wetlands           ┆ 12    ┆ {572.530042,620.499379,320.048… │\n",
       "└────────────┴────────────────────┴───────┴─────────────────────────────────┘"
      ]
     },
     "execution_count": 23,
     "metadata": {},
     "output_type": "execute_result"
    }
   ],
   "source": [
    "# Group and pivot bands and reflectances into dict\n",
    "result = (\n",
    "    concat_monthly\n",
    "    .group_by([\"shapeGroup\", \"landCover\", \"month\"])\n",
    "    .agg([\n",
    "        pl.col(\"band\"),\n",
    "        pl.col(\"meanReflectance\")\n",
    "    ])\n",
    "    .sort(\"shapeGroup\", \"landCover\", \"month\")\n",
    "    .with_columns([\n",
    "        pl.struct([\"band\", \"meanReflectance\"]).map_elements(\n",
    "            lambda x: dict(zip(x[\"band\"], x[\"meanReflectance\"]))\n",
    "        ).alias(\"band_reflectance\")\n",
    "    ])\n",
    "    .select([\"shapeGroup\", \"landCover\", \"month\", \"band_reflectance\"])\n",
    ")\n",
    "\n",
    "result"
   ]
  },
  {
   "cell_type": "code",
   "execution_count": 24,
   "metadata": {},
   "outputs": [],
   "source": [
    "output_dicts_monthly = result.group_by(\"shapeGroup\", \"landCover\").agg(pl.col.month, pl.col.band_reflectance).to_dicts()"
   ]
  },
  {
   "cell_type": "code",
   "execution_count": 25,
   "metadata": {},
   "outputs": [],
   "source": [
    "# Organize the data\n",
    "#total_country_output = defaultdict(lambda: defaultdict(lambda: {}))\n",
    "\n",
    "# Organize the data\n",
    "def nested_dict():\n",
    "    return defaultdict(dict)\n",
    "\n",
    "total_country_output = defaultdict(lambda: defaultdict(nested_dict))\n",
    "\n",
    "for entry in concat_total:\n",
    "    shape = entry['shapeGroup']\n",
    "    land = entry['landCover']\n",
    "    band = entry['band']\n",
    "    reflect = entry['meanReflectance']\n",
    "    total_country_output[shape][\"total\"][land][band] = reflect\n",
    "\n",
    "for entry in output_dicts_monthly:\n",
    "    shape = entry['shapeGroup']\n",
    "    land = entry['landCover']\n",
    "    reflect = entry['band_reflectance']\n",
    "    total_country_output[shape][\"monthly\"][land] = reflect\n",
    "\n",
    "\n",
    "with open(\"total_country_reflectance_data.json\", \"w\") as f:\n",
    "    json.dump(total_country_output, f, indent=2)"
   ]
  }
 ],
 "metadata": {
  "kernelspec": {
   "display_name": ".venv",
   "language": "python",
   "name": "python3"
  },
  "language_info": {
   "codemirror_mode": {
    "name": "ipython",
    "version": 3
   },
   "file_extension": ".py",
   "mimetype": "text/x-python",
   "name": "python",
   "nbconvert_exporter": "python",
   "pygments_lexer": "ipython3",
   "version": "3.12.3"
  }
 },
 "nbformat": 4,
 "nbformat_minor": 2
}
